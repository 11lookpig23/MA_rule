{
 "cells": [
  {
   "cell_type": "code",
   "execution_count": 10,
   "metadata": {},
   "outputs": [],
   "source": [
    "import numpy as np\n",
    "rew = np.load(\"rule_reward_ddpg_harvest_showParaRew_.npy\",allow_pickle=True)"
   ]
  },
  {
   "cell_type": "code",
   "execution_count": 6,
   "metadata": {},
   "outputs": [
    {
     "data": {
      "text/plain": [
       "array([ 7.,  2., 11.,  3.,  5.,  4.,  5.,  1., 12., 10.,  6., 15.,  2.,\n",
       "       21.,  1.,  6.,  4.,  3., 10.,  0.,  3., 11.,  2.,  4., 10.,  0.,\n",
       "        1.,  5.,  2.,  7.,  3.,  1.,  5.,  4.,  7.,  8.,  3., 10.,  6.,\n",
       "        1.,  2.,  3.,  7., 10.,  0.,  0.,  9.,  3.,  4.,  8.,  6.,  7.,\n",
       "        2., 13., 10., 14.,  6., 12.,  0.,  4.], dtype=float32)"
      ]
     },
     "execution_count": 6,
     "metadata": {},
     "output_type": "execute_result"
    }
   ],
   "source": [
    "rew"
   ]
  },
  {
   "cell_type": "code",
   "execution_count": 8,
   "metadata": {},
   "outputs": [
    {
     "data": {
      "text/plain": [
       "5.766666666666667"
      ]
     },
     "execution_count": 8,
     "metadata": {},
     "output_type": "execute_result"
    }
   ],
   "source": [
    "sum(rew[:30])/30"
   ]
  },
  {
   "cell_type": "code",
   "execution_count": 11,
   "metadata": {},
   "outputs": [
    {
     "data": {
      "text/plain": [
       "array({'n_agents': 4, 'n_episode': 201, 'max_steps': 150, 'model': 'pure_ddpg', 'envname': 'harvest', 'eval_step': 60, 'info': {}, 'baseline': {'random': tensor(-540.2000)}, 'eval': [170.5]},\n",
       "      dtype=object)"
      ]
     },
     "execution_count": 11,
     "metadata": {},
     "output_type": "execute_result"
    }
   ],
   "source": [
    "rew"
   ]
  },
  {
   "cell_type": "code",
   "execution_count": null,
   "metadata": {},
   "outputs": [],
   "source": []
  }
 ],
 "metadata": {
  "kernelspec": {
   "display_name": "Python 3",
   "language": "python",
   "name": "python3"
  },
  "language_info": {
   "codemirror_mode": {
    "name": "ipython",
    "version": 3
   },
   "file_extension": ".py",
   "mimetype": "text/x-python",
   "name": "python",
   "nbconvert_exporter": "python",
   "pygments_lexer": "ipython3",
   "version": "3.7.4"
  }
 },
 "nbformat": 4,
 "nbformat_minor": 2
}
